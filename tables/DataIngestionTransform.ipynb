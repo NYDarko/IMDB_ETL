{
 "cells": [
  {
   "cell_type": "code",
   "execution_count": 72,
   "metadata": {},
   "outputs": [
    {
     "data": {
      "text/plain": [
       "True"
      ]
     },
     "execution_count": 72,
     "metadata": {},
     "output_type": "execute_result"
    }
   ],
   "source": [
    "# 1. import libraries needed\n",
    "import os\n",
    "import psycopg2\n",
    "from dotenv import load_dotenv\n",
    "import pandas as pd\n",
    "from sqlalchemy import create_engine\n",
    "load_dotenv()\n"
   ]
  },
  {
   "cell_type": "code",
   "execution_count": 73,
   "metadata": {},
   "outputs": [],
   "source": [
    "#2 read csv files into pandas dataframes\n",
    "movies = pd.read_csv(r\"C:\\Users\\Darko\\DataIngestion\\tables\\movies.csv\")\n",
    "links = pd.read_csv(r\"C:\\Users\\Darko\\DataIngestion\\tables\\links.csv\")\n",
    "ratings = pd.read_csv(r\"C:\\Users\\Darko\\DataIngestion\\tables\\ratings.csv\")\n",
    "tags = pd.read_csv(r\"C:\\Users\\Darko\\DataIngestion\\tables\\tags.csv\")\n"
   ]
  },
  {
   "cell_type": "code",
   "execution_count": 74,
   "metadata": {},
   "outputs": [
    {
     "name": "stdout",
     "output_type": "stream",
     "text": [
      "0   2015-10-24 19:29:54\n",
      "1   2015-10-24 19:29:56\n",
      "2   2015-10-24 19:29:52\n",
      "3   2015-10-24 19:33:27\n",
      "4   2015-10-24 19:33:20\n",
      "Name: timestamp, dtype: datetime64[ns]\n",
      "0   2016-11-19 08:08:20\n",
      "1   2017-05-03 22:25:45\n",
      "2   2016-11-19 07:56:11\n",
      "3   2016-11-19 08:15:31\n",
      "4   2016-11-19 08:57:33\n",
      "Name: timestamp, dtype: datetime64[ns]\n"
     ]
    }
   ],
   "source": [
    "#2.1 Transform files\n",
    "#convert timestamp column to numeric then convert to datetime\n",
    "tags[\"timestamp\"] = pd.to_numeric(tags[\"timestamp\"], errors='coerce')  # Convert to numeric\n",
    "tags[\"timestamp\"] = pd.to_datetime(tags[\"timestamp\"], unit='s')  # Convert to datetime\n",
    "print((tags[\"timestamp\"].head()))\n",
    "\n",
    "ratings[\"timestamp\"] = pd.to_datetime(ratings[\"timestamp\"],unit = 's')\n",
    "print((ratings[\"timestamp\"].head()))\n",
    "\n",
    "\n"
   ]
  },
  {
   "cell_type": "code",
   "execution_count": 75,
   "metadata": {},
   "outputs": [],
   "source": [
    "#3 call environment variables for security\n",
    "db_host = os.getenv(\"DB_HOST\")\n",
    "db_user = os.getenv(\"DB_USER\")\n",
    "db_password = os.getenv(\"DB_PASSWORD\")\n",
    "db_name = os.getenv(\"DB_NAME\")\n",
    "db_port = os.getenv(\"DB_PORT\")"
   ]
  },
  {
   "cell_type": "code",
   "execution_count": 76,
   "metadata": {},
   "outputs": [],
   "source": [
    "# Create Query Engine\n",
    "engine = create_engine(f'postgresql+psycopg2://{db_user}:{db_password}@{db_host}:{db_port}/{db_name}')"
   ]
  },
  {
   "cell_type": "code",
   "execution_count": null,
   "metadata": {},
   "outputs": [],
   "source": [
    "#Create Function to insert data into sql for all dataframes\n",
    "import sqlalchemy\n",
    "\n",
    "\n",
    "def insert_tables(**kwargs):\n",
    "    for df_name,df in kwargs.items():\n",
    "        #if block to force postgres to keep timestamp columns as timestamp\n",
    "        if df_name in ('tag','rating'):\n",
    "            df.to_sql(\n",
    "                name = df_name,\n",
    "                con = engine,\n",
    "                if_exists = 'replace',\n",
    "                index = False,\n",
    "                dtype = {'timestamp':sqlalchemy.types.TIMESTAMP}\n",
    "            )\n",
    "            \n",
    "        else:\n",
    "            df.to_sql(\n",
    "                name = df_name,\n",
    "                con = engine,\n",
    "                if_exists = 'replace',\n",
    "                index = False\n",
    "            )   "
   ]
  },
  {
   "cell_type": "code",
   "execution_count": null,
   "metadata": {},
   "outputs": [
    {
     "name": "stdout",
     "output_type": "stream",
     "text": [
      "Successfully created/inserted tables into postgres\n"
     ]
    }
   ],
   "source": [
    "#Connect to the database \n",
    "with engine.connect() as con:\n",
    "    #call function and pass dataframes and table names as keyword arguments with tablenames as keys\n",
    "    try:\n",
    "        insert_tables(tag=tags,movie=movies,rating=ratings,link=links)\n",
    "    except sqlalchemy.exc.SQLAlchemyError as e:\n",
    "        print(e)\n",
    "    else:\n",
    "        print(f'Successfully created/inserted tables into {db_name}')"
   ]
  }
 ],
 "metadata": {
  "kernelspec": {
   "display_name": "Python 3",
   "language": "python",
   "name": "python3"
  },
  "language_info": {
   "codemirror_mode": {
    "name": "ipython",
    "version": 3
   },
   "file_extension": ".py",
   "mimetype": "text/x-python",
   "name": "python",
   "nbconvert_exporter": "python",
   "pygments_lexer": "ipython3",
   "version": "3.11.5"
  }
 },
 "nbformat": 4,
 "nbformat_minor": 2
}
